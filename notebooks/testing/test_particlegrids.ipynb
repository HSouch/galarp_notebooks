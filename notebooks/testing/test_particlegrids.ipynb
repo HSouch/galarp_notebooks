{
 "cells": [
  {
   "cell_type": "code",
   "execution_count": 5,
   "metadata": {},
   "outputs": [],
   "source": [
    "import galarp as grp\n",
    "import numpy as np\n",
    "\n",
    "from astropy import units as u\n",
    "\n",
    "from gala.units import galactic"
   ]
  },
  {
   "cell_type": "code",
   "execution_count": 50,
   "metadata": {},
   "outputs": [],
   "source": [
    "class UniformGridParticleSet(grp.ParticleSet):\n",
    "\n",
    "    def __init__(self, Rmax = 10 * u.kpc, spacing = 0.5 * u.kpc, \n",
    "                 disp_R = 0 * u.km / u.s, disp_z = 0 * u.km/u.s,  \n",
    "                 units=galactic, **kwargs):\n",
    "        super().__init__(units=units, **kwargs)\n",
    "        \n",
    "        self.Rmax = Rmax.to(units[\"length\"]).value\n",
    "        self.spacing = spacing.to(units[\"length\"]).value\n",
    "\n",
    "        self.disp_R = disp_R.to(self.unitset.velocity).value    \n",
    "        self.disp_z = disp_z.to(self.unitset.velocity).value\n",
    "\n",
    "    def seed(self, potential, **kwargs):\n",
    "        xs, ys = np.meshgrid(np.arange(-self.Rmax, self.Rmax, self.spacing),\n",
    "                             np.arange(-self.Rmax, self.Rmax, self.spacing))\n",
    "        xs = xs.flatten()\n",
    "        ys = ys.flatten()\n",
    "\n",
    "        # Remove particles outside of Rmax\n",
    "        rs = np.sqrt(xs**2 + ys**2)\n",
    "        mask = rs <= self.Rmax\n",
    "        xs = xs[mask]\n",
    "        ys = ys[mask]\n",
    "\n",
    "        zs = np.zeros_like(xs)\n",
    "\n",
    "        self.positions = np.vstack((xs, ys, zs))\n",
    "\n",
    "        self.gen_velocities(potential, **kwargs)\n",
    "\n",
    "        # Add velocity dispersion to the disk if requested\n",
    "        self.velocities[0] += np.random.normal(0, self.disp_R, self.velocities.shape[1])\n",
    "        self.velocities[1] += np.random.normal(0, self.disp_R, self.velocities.shape[1])\n",
    "        self.velocities[2] += np.random.normal(0, self.disp_z, self.velocities.shape[1])\n",
    "\n",
    "\n",
    "pset = UniformGridParticleSet(Rmax=10*u.kpc, spacing=0.2*u.kpc, disp_R=10*u.km/u.s, disp_z=2*u.km/u.s)\n",
    "pset.seed(potential=grp.builtins.satpots.JZ2023_Satellite())"
   ]
  },
  {
   "cell_type": "code",
   "execution_count": 49,
   "metadata": {},
   "outputs": [
    {
     "data": {
      "application/vnd.jupyter.widget-view+json": {
       "model_id": "9c3e3d70ad4747bcb36a54db54534541",
       "version_major": 2,
       "version_minor": 0
      },
      "text/plain": [
       "Output()"
      ]
     },
     "metadata": {},
     "output_type": "display_data"
    }
   ],
   "source": [
    "sim = grp.RPSim(satellite_potential=grp.builtins.satpots.JZ2023_Satellite(),\n",
    "                particles=pset)\n",
    "orbits = sim.run(wind_on=False, integration_time=1000 * u.Myr)\n",
    "\n",
    "grp.plotting.k3d_plot([orbits])"
   ]
  }
 ],
 "metadata": {
  "kernelspec": {
   "display_name": "galarp_dev",
   "language": "python",
   "name": "python3"
  },
  "language_info": {
   "codemirror_mode": {
    "name": "ipython",
    "version": 3
   },
   "file_extension": ".py",
   "mimetype": "text/x-python",
   "name": "python",
   "nbconvert_exporter": "python",
   "pygments_lexer": "ipython3",
   "version": "3.12.2"
  }
 },
 "nbformat": 4,
 "nbformat_minor": 2
}
