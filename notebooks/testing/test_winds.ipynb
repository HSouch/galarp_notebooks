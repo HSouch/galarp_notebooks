{
 "cells": [
  {
   "cell_type": "code",
   "execution_count": 5,
   "metadata": {},
   "outputs": [],
   "source": [
    "import galarp as grp\n",
    "\n",
    "import numpy as np\n",
    "\n",
    "from astropy import units as u"
   ]
  },
  {
   "cell_type": "code",
   "execution_count": 14,
   "metadata": {},
   "outputs": [
    {
     "name": "stdout",
     "output_type": "stream",
     "text": [
      "0.5113560825228475\n",
      "0.0\n",
      "499.99999999999994\n",
      "1.0000000000000002e-26\n"
     ]
    }
   ],
   "source": [
    "wind = grp.builtins.host_winds.BasicClusterWind()\n",
    "rho = grp.builtins.host_winds.BasicClusterDensity()\n",
    "\n",
    "print(wind.strength)\n",
    "print(wind.disk_wind_angle)\n",
    "\n",
    "print(wind.strength * wind.unitset.velocity.to(u.km/u.s))\n",
    "\n",
    "\n",
    "print(rho.density * rho.unitset.density.to(u.g/u.cm**3))"
   ]
  },
  {
   "cell_type": "code",
   "execution_count": 9,
   "metadata": {},
   "outputs": [
    {
     "name": "stdout",
     "output_type": "stream",
     "text": [
      "(4, 3)\n"
     ]
    }
   ],
   "source": [
    "print(wind.evaluate(np.array([0, 5, 20, 55])).shape)"
   ]
  }
 ],
 "metadata": {
  "kernelspec": {
   "display_name": "galarp_dev",
   "language": "python",
   "name": "python3"
  },
  "language_info": {
   "codemirror_mode": {
    "name": "ipython",
    "version": 3
   },
   "file_extension": ".py",
   "mimetype": "text/x-python",
   "name": "python",
   "nbconvert_exporter": "python",
   "pygments_lexer": "ipython3",
   "version": "3.12.2"
  }
 },
 "nbformat": 4,
 "nbformat_minor": 2
}
