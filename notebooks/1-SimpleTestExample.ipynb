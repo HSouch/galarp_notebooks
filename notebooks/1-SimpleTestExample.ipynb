{
 "cells": [
  {
   "cell_type": "code",
   "execution_count": 1,
   "metadata": {},
   "outputs": [],
   "source": [
    "import galarp as grp\n",
    "\n",
    "import numpy as np"
   ]
  },
  {
   "cell_type": "markdown",
   "metadata": {},
   "source": [
    "# GalaRP out of the box\n",
    "\n",
    "**GalaRP** is designed to run completely out of the box with sane defaults. Just call the following below. We'll use the excellent utility ``k3d`` to visualize the results.\n",
    "\n",
    "The first simulation will take a little longer because of the particle initialization (something you would normally do earlier). For later runs, we will be changing other aspects of the sim parameters and you'll see dramatic speedups.\n",
    "\n",
    "Note that we are currently doing really simple toy simulations, so we are not interested in the \"ram pressure shadow\" (just yet)."
   ]
  },
  {
   "cell_type": "code",
   "execution_count": 2,
   "metadata": {},
   "outputs": [
    {
     "name": "stderr",
     "output_type": "stream",
     "text": [
      "WARNING: AstropyDeprecationWarning: The run function is deprecated and may be removed in a future version.\n",
      "        Use Integrator call method instead. [galarp.core.sim]\n",
      "/Users/hsouch/Dropbox/galarp/galarp/core/sim.py:26: RuntimeWarning: overflow encountered in square\n",
      "  a_ram = (v_rel ** 2) * (rho_icm.evaluate(t) / particles.surface_density()) * np.sign(v_rel) # [:, np.newaxis]\n",
      "/Users/hsouch/gala/gala/integrate/pyintegrators/rk5.py:79: RuntimeWarning: invalid value encountered in multiply\n",
      "  dw = dw + C[i]*K[i]\n",
      "/Users/hsouch/anaconda3/envs/galarp_dev/lib/python3.12/site-packages/traittypes/traittypes.py:97: UserWarning: Given trait value dtype \"float64\" does not match required type \"float32\". A coerced copy has been created.\n",
      "  warnings.warn(\n",
      "/Users/hsouch/anaconda3/envs/galarp_dev/lib/python3.12/site-packages/traittypes/traittypes.py:95: RuntimeWarning: overflow encountered in cast\n",
      "  r = np.asarray(value, dtype=self.dtype)\n"
     ]
    },
    {
     "data": {
      "application/vnd.jupyter.widget-view+json": {
       "model_id": "e41d45c0d48a49e59f0f0f0e5e79f3f7",
       "version_major": 2,
       "version_minor": 0
      },
      "text/plain": [
       "Output()"
      ]
     },
     "metadata": {},
     "output_type": "display_data"
    }
   ],
   "source": [
    "sim = grp.RPSim()\n",
    "orbits = sim.run(integration_time=1000, shadow_on=False)      \n",
    "grp.plotting.k3d_plot([orbits])"
   ]
  },
  {
   "cell_type": "markdown",
   "metadata": {},
   "source": [
    "# Changing Params\n",
    "\n",
    "That was cool! But what if we want a slightly different simulation? You are able to change certain things like the disk wind angle (angle between the wind vector and the disk normal vector) seamlessly.\n",
    "\n",
    "Note that this isn't always the case. Certain things, like changes to the gravitational potential, will require re-initialization of the constituent particles."
   ]
  },
  {
   "cell_type": "code",
   "execution_count": 3,
   "metadata": {},
   "outputs": [
    {
     "data": {
      "application/vnd.jupyter.widget-view+json": {
       "model_id": "af17e4a338c94f479672364ab1a11bf9",
       "version_major": 2,
       "version_minor": 0
      },
      "text/plain": [
       "Output()"
      ]
     },
     "metadata": {},
     "output_type": "display_data"
    }
   ],
   "source": [
    "sim.wind.disk_wind_angle = np.pi/4\n",
    "\n",
    "orbits = sim.run(integration_time=1000)\n",
    "grp.plotting.k3d_plot([orbits], outname=None)"
   ]
  }
 ],
 "metadata": {
  "kernelspec": {
   "display_name": "galarp_dev",
   "language": "python",
   "name": "python3"
  },
  "language_info": {
   "codemirror_mode": {
    "name": "ipython",
    "version": 3
   },
   "file_extension": ".py",
   "mimetype": "text/x-python",
   "name": "python",
   "nbconvert_exporter": "python",
   "pygments_lexer": "ipython3",
   "version": "3.12.2"
  }
 },
 "nbformat": 4,
 "nbformat_minor": 2
}
